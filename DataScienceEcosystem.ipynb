{
 "cells": [
  {
   "cell_type": "markdown",
   "id": "ffaa8add-120b-4fe6-baea-064243125d2f",
   "metadata": {},
   "source": [
    "# Data Science Tools and Ecosystem"
   ]
  },
  {
   "cell_type": "markdown",
   "id": "c2fba8cc-1460-472a-8854-57d658e16774",
   "metadata": {},
   "source": [
    "In this notebook, Data Science Tools and Ecosystem are summarized."
   ]
  },
  {
   "cell_type": "markdown",
   "id": "d2ba2e19-e93a-45a9-aeb4-334750f06138",
   "metadata": {},
   "source": [
    "Some of the popular languages that Data Scientists use are:"
   ]
  },
  {
   "cell_type": "markdown",
   "id": "6dd07ff5-ce0f-4122-8e22-afb760470e74",
   "metadata": {},
   "source": [
    "1. Python\n",
    "2. R\n",
    "3. Scala\n",
    "4. SQL\n",
    "5. JavaScript"
   ]
  },
  {
   "cell_type": "markdown",
   "id": "f57b8043-598c-45a1-96c3-767540b807c0",
   "metadata": {},
   "source": [
    "Some of the commonly used libraries used by Data Scientists include:"
   ]
  },
  {
   "cell_type": "markdown",
   "id": "edf07665-6392-4089-ac5e-be28f314d5f7",
   "metadata": {},
   "source": [
    "1. ggplot\n",
    "2. Pandas\n",
    "3. NumPy\n",
    "4. SciPy"
   ]
  },
  {
   "cell_type": "markdown",
   "id": "43d2ecf3-a9d0-43ed-bb33-816f1431cc82",
   "metadata": {},
   "source": [
    "| Data Science Tools|\n",
    "|------------|\n",
    "|JupyterLab|\n",
    "|RStudio|\n",
    "|Apache Spark|"
   ]
  },
  {
   "cell_type": "markdown",
   "id": "636f9441-ae63-4ce3-b063-21316509343b",
   "metadata": {},
   "source": [
    "### Below are a few examples of evaluating arithmetic expressions in Python."
   ]
  },
  {
   "cell_type": "code",
   "execution_count": 2,
   "id": "67a0e160-3685-4305-86a6-d1c2f4112289",
   "metadata": {
    "tags": []
   },
   "outputs": [
    {
     "data": {
      "text/plain": [
       "17"
      ]
     },
     "execution_count": 2,
     "metadata": {},
     "output_type": "execute_result"
    }
   ],
   "source": [
    "(3*4)+5\n",
    "#This is a simple arithmetic expression to multiuple \n",
    "#then add integers"
   ]
  },
  {
   "cell_type": "code",
   "execution_count": 3,
   "id": "1be5366f-b8bf-4c6a-a614-d55255770e55",
   "metadata": {
    "tags": []
   },
   "outputs": [
    {
     "data": {
      "text/plain": [
       "3.3333333333333335"
      ]
     },
     "execution_count": 3,
     "metadata": {},
     "output_type": "execute_result"
    }
   ],
   "source": [
    "#this will convert 200 minutes to hours by dividing by 60\n",
    "(200)/60"
   ]
  },
  {
   "cell_type": "markdown",
   "id": "cbcfad1d-3167-45ac-b9e2-9c0607600664",
   "metadata": {},
   "source": [
    "Objectives:\n",
    "- List popular languages for Data Science\n",
    "- Show basic arithmetic expression\n",
    "- Create a table of Data Science tools\n",
    "- Use markdown to change formats of text"
   ]
  },
  {
   "cell_type": "code",
   "execution_count": null,
   "id": "d60c1d95-31c8-45cb-9f8f-153d1eb688e5",
   "metadata": {},
   "outputs": [],
   "source": []
  }
 ],
 "metadata": {
  "kernelspec": {
   "display_name": "Python 3 (ipykernel)",
   "language": "python",
   "name": "python3"
  },
  "language_info": {
   "codemirror_mode": {
    "name": "ipython",
    "version": 3
   },
   "file_extension": ".py",
   "mimetype": "text/x-python",
   "name": "python",
   "nbconvert_exporter": "python",
   "pygments_lexer": "ipython3",
   "version": "3.11.3"
  }
 },
 "nbformat": 4,
 "nbformat_minor": 5
}
